{
 "cells": [
  {
   "cell_type": "code",
   "execution_count": 13,
   "id": "8d23ffd1-f983-410b-9d7e-8ae3167c1abe",
   "metadata": {
    "id": "8d23ffd1-f983-410b-9d7e-8ae3167c1abe"
   },
   "outputs": [],
   "source": [
    "import cv2 as cv\n",
    "import numpy as np\n",
    "import matplotlib.pyplot as plt"
   ]
  },
  {
   "cell_type": "markdown",
   "id": "0b0415d4-ec1c-4023-a115-1737898d2a34",
   "metadata": {
    "id": "0b0415d4-ec1c-4023-a115-1737898d2a34"
   },
   "source": [
    "### Question 1\n"
   ]
  },
  {
   "cell_type": "code",
   "execution_count": 14,
   "id": "3b3bc890-60cb-4157-af5c-d70b9921138d",
   "metadata": {
    "id": "3b3bc890-60cb-4157-af5c-d70b9921138d"
   },
   "outputs": [
    {
     "name": "stdin",
     "output_type": "stream",
     "text": [
      "Enter image name:  parrot.webp\n"
     ]
    }
   ],
   "source": [
    "img = input(\"Enter image name: \");\n",
    "img = cv.imread(img);\n",
    "if img is None:\n",
    "    print(\"Error load image\")\n",
    "else:\n",
    "    plt.imshow(img)"
   ]
  },
  {
   "cell_type": "markdown",
   "id": "b5e8f1bf-5cc2-4ab4-a4cc-a5880907c734",
   "metadata": {
    "id": "b5e8f1bf-5cc2-4ab4-a4cc-a5880907c734"
   },
   "source": [
    "### Question 2\n"
   ]
  },
  {
   "cell_type": "code",
   "execution_count": 3,
   "id": "c86d0e26-dbf3-4210-935e-e5b3142b842a",
   "metadata": {
    "id": "c86d0e26-dbf3-4210-935e-e5b3142b842a"
   },
   "outputs": [
    {
     "name": "stdin",
     "output_type": "stream",
     "text": [
      "Enter file image name or whole path:  parrot.webp\n"
     ]
    },
    {
     "name": "stdout",
     "output_type": "stream",
     "text": [
      "Most Intensity value of red Color in image is:  122\n",
      "Most Intensity value of green Color in image is:  172\n",
      "Most Intensity value of blue Color in image is:  122\n"
     ]
    }
   ],
   "source": [
    "image_path = input(\"Enter file image name or whole path: \");\n",
    "img = cv.imread(image_path)\n",
    "r_img,g_img,b_img = img[:,:,0],img[:,:,1],img[:,:,2]\n",
    "r_img = r_img.flatten();\n",
    "r_intensity = np.bincount(r_img.astype(np.int64));\n",
    "print(\"Most Intensity value of red Color in image is: \",r_intensity.argmax())\n",
    "\n",
    "g_img = g_img.flatten();\n",
    "g_intensity = np.bincount(g_img.astype(np.int64));\n",
    "print(\"Most Intensity value of green Color in image is: \",g_intensity.argmax())\n",
    "\n",
    "b_img = r_img.flatten();\n",
    "b_intensity = np.bincount(b_img.astype(np.int64));\n",
    "print(\"Most Intensity value of blue Color in image is: \",b_intensity.argmax())\n"
   ]
  },
  {
   "cell_type": "markdown",
   "id": "9b925f6e-fff4-4340-83c1-fbb526e3b7ce",
   "metadata": {
    "id": "9b925f6e-fff4-4340-83c1-fbb526e3b7ce"
   },
   "source": [
    "### Question 3"
   ]
  },
  {
   "cell_type": "code",
   "execution_count": 4,
   "id": "8ac79ac9-076e-4934-8659-f2b6d25ed0c9",
   "metadata": {
    "id": "8ac79ac9-076e-4934-8659-f2b6d25ed0c9"
   },
   "outputs": [
    {
     "name": "stdin",
     "output_type": "stream",
     "text": [
      "Enter file image name or whole path:  parrot.webp\n"
     ]
    }
   ],
   "source": [
    "image_path = input(\"Enter file image name or whole path: \");\n",
    "img = cv.imread(image_path)\n",
    "\n",
    "if img is None:\n",
    "    print(\"Error loading image_path\")\n",
    "else:\n",
    "    r,g,b = img[:,:,0],img[:,:,1],img[:,:,2]\n",
    "    gray_img = r*0.3 + g*0.6 + b*0.1\n",
    "    gray_img_path = 'grayscale_' + image_path\n",
    "    cv.imwrite(gray_img_path, gray_img)"
   ]
  },
  {
   "cell_type": "markdown",
   "id": "8c7a17f6-e297-4d4e-bfc9-b299919b3df5",
   "metadata": {
    "id": "8c7a17f6-e297-4d4e-bfc9-b299919b3df5"
   },
   "source": [
    "### Question 4"
   ]
  },
  {
   "cell_type": "code",
   "execution_count": 8,
   "id": "d4442e50-3bd0-4659-a748-bf9f82eb593d",
   "metadata": {
    "id": "d4442e50-3bd0-4659-a748-bf9f82eb593d"
   },
   "outputs": [
    {
     "name": "stdin",
     "output_type": "stream",
     "text": [
      "Enter file image name or whole path:  parrot.webp\n",
      "Please enter file name or nothing to end:  \n"
     ]
    },
    {
     "data": {
      "text/plain": [
       "<matplotlib.image.AxesImage at 0x16425331ea0>"
      ]
     },
     "execution_count": 8,
     "metadata": {},
     "output_type": "execute_result"
    }
   ],
   "source": [
    "images = [];\n",
    "image_path = input(\"Enter file image name or whole path: \");\n",
    "img1 = cv.imread(image_path)\n",
    "while (img1 is not None):\n",
    "    images.append(img1);\n",
    "    image_path = input(\"Please enter file name or nothing to end: \");\n",
    "    img1 = cv.imread(image_path)\n",
    "\n",
    "v_concat_Images = cv.vconcat(images);\n",
    "h_concat_Images = cv.hconcat(images);\n",
    "plt.imshow(h_concat_Images)"
   ]
  },
  {
   "cell_type": "code",
   "execution_count": 9,
   "id": "25987e31-d3ec-4938-ad16-0e7a8e6f32c1",
   "metadata": {
    "id": "25987e31-d3ec-4938-ad16-0e7a8e6f32c1"
   },
   "outputs": [
    {
     "data": {
      "text/plain": [
       "<matplotlib.image.AxesImage at 0x1642535f4c0>"
      ]
     },
     "execution_count": 9,
     "metadata": {},
     "output_type": "execute_result"
    }
   ],
   "source": [
    "plt.imshow(v_concat_Images)"
   ]
  },
  {
   "cell_type": "markdown",
   "id": "8c853e93-b4ab-4300-9549-c03e2af4f5d4",
   "metadata": {
    "id": "8c853e93-b4ab-4300-9549-c03e2af4f5d4"
   },
   "source": [
    "### Question 5"
   ]
  },
  {
   "cell_type": "code",
   "execution_count": 7,
   "id": "9886187c-0695-4c72-8882-ac67dc869235",
   "metadata": {
    "id": "9886187c-0695-4c72-8882-ac67dc869235"
   },
   "outputs": [
    {
     "name": "stdout",
     "output_type": "stream",
     "text": [
      "Left button clicked at (125, 209)\n"
     ]
    }
   ],
   "source": [
    "def mouse_callback(event, x, y, flags, param):\n",
    "    if event == cv.EVENT_LBUTTONDOWN:\n",
    "        print(f\"Left button clicked at ({x}, {y})\")\n",
    "        r = image[y][x][0]\n",
    "        g = image[y][x][1]\n",
    "        b = image[y][x][2]\n",
    "        for i in range(image.shape[0]):\n",
    "            for j in range(image.shape[1]):\n",
    "                if(image[i][j][0] == r and image[i][j][1] == g and image[i][j][2] == b):\n",
    "                    image[i][j][0] = image[i][j][1] = image[i][j][2] = 255\n",
    "    elif event == cv.EVENT_RBUTTONDOWN:\n",
    "        print(f\"Right button clicked at ({x}, {y})\")\n",
    "\n",
    "\n",
    "image = cv.imread('parrot.webp')  #Your source image\n",
    "cv.namedWindow('image',cv.WINDOW_NORMAL)\n",
    "cv.setMouseCallback('image', mouse_callback)\n",
    "\n",
    "while True:\n",
    "    cv.imshow('image', image)\n",
    "    if cv.waitKey(20) & 0xFF == 27:  # Press 'Esc' to exit\n",
    "        break\n",
    "\n",
    "\n",
    "cv.destroyAllWindows()\n"
   ]
  },
  {
   "cell_type": "markdown",
   "id": "ef1c320c-8800-4421-b8c3-b902cb46074a",
   "metadata": {
    "id": "ef1c320c-8800-4421-b8c3-b902cb46074a"
   },
   "source": [
    "### Question 6"
   ]
  },
  {
   "cell_type": "code",
   "execution_count": null,
   "id": "878a89da-2751-45f8-944e-730b1b54e69c",
   "metadata": {
    "id": "878a89da-2751-45f8-944e-730b1b54e69c"
   },
   "outputs": [],
   "source": [
    "image_path = input(\"Enter file image name or whole path: \");\n",
    "img1 = cv.imread(image_path);\n",
    "num_indices = int(img1.shape[0]*img1.shape[1] * 2/100)\n",
    "random_indices = np.random.randint(0, min(img1.shape[0],img1.shape[1]) , size=(num_indices, 2))\n",
    "for idx in random_indices:\n",
    "    i,j = idx\n",
    "    img1[i,j] = [255,255,255]\n",
    "random_indices = np.random.randint(0, min(img1.shape[0],img1.shape[1]) , size=(num_indices, 2))\n",
    "for idx in random_indices:\n",
    "    i,j = idx\n",
    "    img1[i,j] = [0,0,0]\n",
    "\n",
    "plt.imshow(img1)"
   ]
  },
  {
   "cell_type": "markdown",
   "id": "a2d19b57-0f63-40bd-8a4f-0a6b60e1bf71",
   "metadata": {
    "id": "a2d19b57-0f63-40bd-8a4f-0a6b60e1bf71"
   },
   "source": [
    "### Question 7"
   ]
  },
  {
   "cell_type": "code",
   "execution_count": null,
   "id": "22f55d38-971f-4ebb-aee3-37c7d7154b3c",
   "metadata": {
    "id": "22f55d38-971f-4ebb-aee3-37c7d7154b3c"
   },
   "outputs": [],
   "source": [
    "drawing = False\n",
    "polygon_points = []\n",
    "\n",
    "def mouse_callback(event, x, y, flags, param):\n",
    "    global drawing, polygon_points\n",
    "\n",
    "    if event == cv.EVENT_LBUTTONDOWN:\n",
    "        if not drawing:\n",
    "            drawing = True\n",
    "            polygon_points = [(x, y)]\n",
    "        else:\n",
    "            polygon_points.append((x, y))\n",
    "\n",
    "        cv.circle(image, (x, y), 3, (0, 0, 255), -1)\n",
    "        if len(polygon_points) > 1:\n",
    "            cv.line(image, polygon_points[-2], polygon_points[-1], (0, 255, 0), 2)\n",
    "    elif event == cv.EVENT_RBUTTONDOWN and drawing:\n",
    "        polygon_points.append(polygon_points[0])\n",
    "        cv.line(image, polygon_points[-2], polygon_points[-1], (0, 255, 0), 2)\n",
    "        drawing = False\n",
    "        fill_polygon(image, polygon_points)\n",
    "\n",
    "def fill_polygon(image, points):\n",
    "    mask = np.zeros(image.shape[:2], dtype=np.uint8)\n",
    "    points = np.array(points, np.int32)\n",
    "    points = points.reshape((-1, 1, 2))\n",
    "    cv.fillPoly(mask, [points], 255)\n",
    "    image[mask == 255] = [255, 255, 255]\n",
    "\n",
    "img_path = input(\"Enter the image path: \")\n",
    "image = cv.imread(img_path)\n",
    "\n",
    "if image is None:\n",
    "    print(\"Error loading image\")\n",
    "else:\n",
    "    cv.namedWindow('image', cv.WINDOW_NORMAL)\n",
    "    cv.setMouseCallback('image', mouse_callback)\n",
    "\n",
    "    while True:\n",
    "        cv.imshow('image', image)\n",
    "        if cv.waitKey(20) & 0xFF == 27:\n",
    "            break\n",
    "\n",
    "    cv.destroyAllWindows()\n"
   ]
  },
  {
   "cell_type": "markdown",
   "id": "f18ab787-6e45-44bb-a1d2-6b82ab6e69c5",
   "metadata": {
    "id": "f18ab787-6e45-44bb-a1d2-6b82ab6e69c5"
   },
   "source": [
    "### Question 8"
   ]
  },
  {
   "cell_type": "code",
   "execution_count": null,
   "id": "bf747a82-661d-4c35-8779-389c0bebc682",
   "metadata": {
    "id": "bf747a82-661d-4c35-8779-389c0bebc682"
   },
   "outputs": [],
   "source": [
    "import cv2\n",
    "def select_points(event, x, y, flags, param):\n",
    "    if event == cv2.EVENT_LBUTTONDOWN:\n",
    "        param.append((x, y))\n",
    "\n",
    "def draw_polygon(image, points, color=(0, 255, 0), thickness=2):\n",
    "    pts = np.array(points, np.int32)\n",
    "    pts = pts.reshape((-1, 1, 2))\n",
    "    cv2.polylines(image, [pts], True, color, thickness)\n",
    "\n",
    "def rotate_point(point, angle, center):\n",
    "    angle_rad = np.radians(angle)\n",
    "    ox, oy = center\n",
    "    px, py = point\n",
    "    qx = ox + np.cos(angle_rad) * (px - ox) - np.sin(angle_rad) * (py - oy)\n",
    "    qy = oy + np.sin(angle_rad) * (px - ox) + np.cos(angle_rad) * (py - oy)\n",
    "    return int(qx), int(qy)\n",
    "\n",
    "def rotate_image(image, angle, center):\n",
    "    height, width = image.shape[:2]\n",
    "    rotation_matrix = cv2.getRotationMatrix2D(center, angle, 1)\n",
    "    rotated_image = cv2.warpAffine(image, rotation_matrix, (width, height))\n",
    "    return rotated_image\n",
    "\n",
    "def translate_point(point, tx, ty):\n",
    "    return (point[0] + tx, point[1] + ty)\n",
    "\n",
    "def translate_image(image, tx, ty):\n",
    "    rows, cols = image.shape[:2]\n",
    "    M = np.float32([[1, 0, tx], [0, 1, ty]])\n",
    "    translated_image = cv2.warpAffine(image, M, (cols, rows))\n",
    "    return translated_image\n",
    "\n",
    "def scale_point(point, scale_factor, center):\n",
    "    cx, cy = center\n",
    "    px, py = point\n",
    "    return (int((px - cx) * scale_factor + cx), int((py - cy) * scale_factor + cy))\n",
    "\n",
    "def scale_image(image, scale_factor, center):\n",
    "    rows, cols = image.shape[:2]\n",
    "    M = cv2.getRotationMatrix2D(center, 0, scale_factor)\n",
    "    scaled_image = cv2.warpAffine(image, M, (cols, rows))\n",
    "    return scaled_image\n",
    "\n",
    "# Load an image\n",
    "image_path = input(\"Enter the path to the image: \")\n",
    "image = cv2.imread(image_path)\n",
    "original = image.copy()\n",
    "\n",
    "points = []\n",
    "cv2.namedWindow('Image')\n",
    "cv2.setMouseCallback('Image', select_points, points)\n",
    "\n",
    "while True:\n",
    "    temp_image = image.copy()\n",
    "    if len(points) > 1:\n",
    "        draw_polygon(temp_image, points)\n",
    "\n",
    "    cv2.imshow('Image', temp_image)\n",
    "    key = cv2.waitKey(1) & 0xFF\n",
    "\n",
    "    if key == ord('q'):\n",
    "        break\n",
    "    elif key == ord('c'):\n",
    "        points.clear()\n",
    "    elif key == ord('f'):\n",
    "        if len(points) > 2:\n",
    "            break\n",
    "\n",
    "cv2.destroyAllWindows()\n",
    "\n",
    "if len(points) > 2:\n",
    "    mask = np.zeros(image.shape[:2], dtype=np.uint8)\n",
    "    pts = np.array(points, np.int32)\n",
    "    cv2.fillPoly(mask, [pts], 255)\n",
    "\n",
    "    action = input(\"Enter the action (rotation, translation, scaling): \").strip().lower()\n",
    "\n",
    "    if action == \"rotation\":\n",
    "        angle = float(input(\"Enter rotation angle in degrees: \"))\n",
    "        center = tuple(map(int, np.mean(points, axis=0)))\n",
    "\n",
    "        # Rotate the entire image\n",
    "        rotated = rotate_image(original, angle, center)\n",
    "\n",
    "        # Rotate the polygon points\n",
    "        rotated_points = [rotate_point(p, angle, center) for p in points]\n",
    "\n",
    "        # Create a new mask with the rotated polygon\n",
    "        rotated_mask = np.zeros(image.shape[:2], dtype=np.uint8)\n",
    "        cv2.fillPoly(rotated_mask, [np.array(rotated_points, np.int32)], 255)\n",
    "\n",
    "        # Apply the rotated mask\n",
    "        result = cv2.bitwise_and(rotated, rotated, mask=rotated_mask)\n",
    "        result += cv2.bitwise_and(original, original, mask=cv2.bitwise_not(rotated_mask))\n",
    "\n",
    "        # Draw the rotated polygon on the result\n",
    "        draw_polygon(result, rotated_points, color=(0, 0, 255), thickness=2)\n",
    "\n",
    "    elif action == \"translation\":\n",
    "        tx = int(input(\"Enter x translation: \"))\n",
    "        ty = int(input(\"Enter y translation: \"))\n",
    "\n",
    "        # Translate the entire image\n",
    "        translated = translate_image(original, tx, ty)\n",
    "\n",
    "        # Translate the polygon points\n",
    "        translated_points = [translate_point(p, tx, ty) for p in points]\n",
    "\n",
    "        # Create a new mask with the translated polygon\n",
    "        translated_mask = np.zeros(image.shape[:2], dtype=np.uint8)\n",
    "        cv2.fillPoly(translated_mask, [np.array(translated_points, np.int32)], 255)\n",
    "\n",
    "        # Apply the translated mask\n",
    "        result = cv2.bitwise_and(translated, translated, mask=translated_mask)\n",
    "        result += cv2.bitwise_and(original, original, mask=cv2.bitwise_not(translated_mask))\n",
    "\n",
    "        # Draw the translated polygon on the result\n",
    "        draw_polygon(result, translated_points, color=(0, 0, 255), thickness=2)\n",
    "\n",
    "    elif action == \"scaling\":\n",
    "        scale_factor = float(input(\"Enter scaling factor (>1 to enlarge, <1 to shrink: \"))\n",
    "\n",
    "        # Calculate the center of the polygon\n",
    "        center = tuple(map(int, np.mean(points, axis=0)))\n",
    "\n",
    "        # Scale the entire image\n",
    "        scaled = scale_image(original, scale_factor, center)\n",
    "\n",
    "        # Scale the polygon points\n",
    "        scaled_points = [scale_point(p, scale_factor, center) for p in points]\n",
    "\n",
    "        # Create a new mask with the scaled polygon\n",
    "        scaled_mask = np.zeros(image.shape[:2], dtype=np.uint8)\n",
    "        cv2.fillPoly(scaled_mask, [np.array(scaled_points, np.int32)], 255)\n",
    "\n",
    "        # Apply the scaled mask\n",
    "        result = cv2.bitwise_and(scaled, scaled, mask=scaled_mask)\n",
    "        result += cv2.bitwise_and(original, original, mask=cv2.bitwise_not(scaled_mask))\n",
    "\n",
    "        # Draw the scaled polygon on the result\n",
    "        draw_polygon(result, scaled_points, color=(0, 0, 255), thickness=2)\n",
    "\n",
    "    # Convert BGR to RGB for displaying with matplotlib\n",
    "    result_rgb = cv2.cvtColor(result, cv2.COLOR_BGR2RGB)\n",
    "\n",
    "    plt.figure(figsize=(10, 10))\n",
    "    plt.imshow(result_rgb)\n",
    "    plt.axis('off')\n",
    "    plt.show()"
   ]
  },
  {
   "cell_type": "code",
   "execution_count": null,
   "id": "0f0d9e3e-10dc-4904-a8e9-ec2d482ad6e8",
   "metadata": {
    "id": "0f0d9e3e-10dc-4904-a8e9-ec2d482ad6e8"
   },
   "outputs": [],
   "source": []
  }
 ],
 "metadata": {
  "colab": {
   "provenance": []
  },
  "kernelspec": {
   "display_name": "Python 3 (ipykernel)",
   "language": "python",
   "name": "python3"
  },
  "language_info": {
   "codemirror_mode": {
    "name": "ipython",
    "version": 3
   },
   "file_extension": ".py",
   "mimetype": "text/x-python",
   "name": "python",
   "nbconvert_exporter": "python",
   "pygments_lexer": "ipython3",
   "version": "3.10.13"
  }
 },
 "nbformat": 4,
 "nbformat_minor": 5
}
